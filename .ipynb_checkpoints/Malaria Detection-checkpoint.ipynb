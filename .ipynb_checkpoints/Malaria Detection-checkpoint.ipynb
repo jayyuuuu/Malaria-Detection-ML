{
 "cells": [
  {
   "cell_type": "markdown",
   "metadata": {},
   "source": [
    "## Creating CNN Using Scratch And Transfer Learning\n",
    "\n"
   ]
  },
  {
   "cell_type": "markdown",
   "metadata": {},
   "source": [
    "Please download the dataset from the below url"
   ]
  },
  {
   "cell_type": "code",
   "execution_count": 1,
   "metadata": {},
   "outputs": [],
   "source": [
    "# import the libraries as shown below\n",
    "\n",
    "from tensorflow.keras.layers import Input, Lambda, Dense, Flatten,Conv2D\n",
    "from tensorflow.keras.models import Model\n",
    "from tensorflow.keras.applications.vgg19 import VGG19\n",
    "from tensorflow.keras.applications.resnet50 import preprocess_input\n",
    "from tensorflow.keras.preprocessing import image\n",
    "from tensorflow.keras.preprocessing.image import ImageDataGenerator,load_img\n",
    "from tensorflow.keras.models import Sequential\n",
    "import numpy as np\n",
    "from glob import glob\n",
    "import matplotlib.pyplot as plt"
   ]
  },
  {
   "cell_type": "code",
   "execution_count": 2,
   "metadata": {},
   "outputs": [
    {
     "name": "stdout",
     "output_type": "stream",
     "text": [
      "2.4.1\n"
     ]
    }
   ],
   "source": [
    "import tensorflow as tf;\n",
    "print(tf.__version__)"
   ]
  },
  {
   "cell_type": "code",
   "execution_count": 6,
   "metadata": {},
   "outputs": [],
   "source": [
    "# re-size all the images to this\n",
    "IMAGE_SIZE = [224, 224]\n",
    "\n",
    "train_path = 'Dataset/Train'\n",
    "valid_path = 'Dataset/Test'\n"
   ]
  },
  {
   "cell_type": "code",
   "execution_count": 9,
   "metadata": {},
   "outputs": [],
   "source": [
    "# Import the Vgg 16 library as shown below and add preprocessing layer to the front of VGG\n",
    "# Here we will be using imagenet weights\n",
    "\n",
    "vgg19 = VGG19(input_shape=IMAGE_SIZE + [3], weights='imagenet', include_top=False)\n",
    "\n",
    "\n"
   ]
  },
  {
   "cell_type": "code",
   "execution_count": 10,
   "metadata": {},
   "outputs": [
    {
     "name": "stdout",
     "output_type": "stream",
     "text": [
      "Model: \"vgg19\"\n",
      "_________________________________________________________________\n",
      "Layer (type)                 Output Shape              Param #   \n",
      "=================================================================\n",
      "input_3 (InputLayer)         [(None, 224, 224, 3)]     0         \n",
      "_________________________________________________________________\n",
      "block1_conv1 (Conv2D)        (None, 224, 224, 64)      1792      \n",
      "_________________________________________________________________\n",
      "block1_conv2 (Conv2D)        (None, 224, 224, 64)      36928     \n",
      "_________________________________________________________________\n",
      "block1_pool (MaxPooling2D)   (None, 112, 112, 64)      0         \n",
      "_________________________________________________________________\n",
      "block2_conv1 (Conv2D)        (None, 112, 112, 128)     73856     \n",
      "_________________________________________________________________\n",
      "block2_conv2 (Conv2D)        (None, 112, 112, 128)     147584    \n",
      "_________________________________________________________________\n",
      "block2_pool (MaxPooling2D)   (None, 56, 56, 128)       0         \n",
      "_________________________________________________________________\n",
      "block3_conv1 (Conv2D)        (None, 56, 56, 256)       295168    \n",
      "_________________________________________________________________\n",
      "block3_conv2 (Conv2D)        (None, 56, 56, 256)       590080    \n",
      "_________________________________________________________________\n",
      "block3_conv3 (Conv2D)        (None, 56, 56, 256)       590080    \n",
      "_________________________________________________________________\n",
      "block3_conv4 (Conv2D)        (None, 56, 56, 256)       590080    \n",
      "_________________________________________________________________\n",
      "block3_pool (MaxPooling2D)   (None, 28, 28, 256)       0         \n",
      "_________________________________________________________________\n",
      "block4_conv1 (Conv2D)        (None, 28, 28, 512)       1180160   \n",
      "_________________________________________________________________\n",
      "block4_conv2 (Conv2D)        (None, 28, 28, 512)       2359808   \n",
      "_________________________________________________________________\n",
      "block4_conv3 (Conv2D)        (None, 28, 28, 512)       2359808   \n",
      "_________________________________________________________________\n",
      "block4_conv4 (Conv2D)        (None, 28, 28, 512)       2359808   \n",
      "_________________________________________________________________\n",
      "block4_pool (MaxPooling2D)   (None, 14, 14, 512)       0         \n",
      "_________________________________________________________________\n",
      "block5_conv1 (Conv2D)        (None, 14, 14, 512)       2359808   \n",
      "_________________________________________________________________\n",
      "block5_conv2 (Conv2D)        (None, 14, 14, 512)       2359808   \n",
      "_________________________________________________________________\n",
      "block5_conv3 (Conv2D)        (None, 14, 14, 512)       2359808   \n",
      "_________________________________________________________________\n",
      "block5_conv4 (Conv2D)        (None, 14, 14, 512)       2359808   \n",
      "_________________________________________________________________\n",
      "block5_pool (MaxPooling2D)   (None, 7, 7, 512)         0         \n",
      "=================================================================\n",
      "Total params: 20,024,384\n",
      "Trainable params: 20,024,384\n",
      "Non-trainable params: 0\n",
      "_________________________________________________________________\n"
     ]
    }
   ],
   "source": [
    "vgg19.summary()"
   ]
  },
  {
   "cell_type": "code",
   "execution_count": 12,
   "metadata": {},
   "outputs": [],
   "source": [
    "# don't train existing weights\n",
    "for layer in vgg19.layers:\n",
    "    layer.trainable = False"
   ]
  },
  {
   "cell_type": "code",
   "execution_count": 13,
   "metadata": {},
   "outputs": [],
   "source": [
    "  # useful for getting number of output classes\n",
    "folders = glob('Dataset/Train/*')"
   ]
  },
  {
   "cell_type": "code",
   "execution_count": 14,
   "metadata": {},
   "outputs": [
    {
     "data": {
      "text/plain": [
       "['Dataset/Train\\\\Parasite', 'Dataset/Train\\\\Uninfected']"
      ]
     },
     "execution_count": 14,
     "metadata": {},
     "output_type": "execute_result"
    }
   ],
   "source": [
    "folders"
   ]
  },
  {
   "cell_type": "code",
   "execution_count": 15,
   "metadata": {},
   "outputs": [],
   "source": [
    "# our layers - you can add more if you want\n",
    "x = Flatten()(vgg19.output)"
   ]
  },
  {
   "cell_type": "code",
   "execution_count": 16,
   "metadata": {},
   "outputs": [],
   "source": [
    "prediction = Dense(len(folders), activation='softmax')(x)\n",
    "\n",
    "# create a model object\n",
    "model = Model(inputs=vgg19.input, outputs=prediction)"
   ]
  },
  {
   "cell_type": "code",
   "execution_count": 17,
   "metadata": {},
   "outputs": [
    {
     "name": "stdout",
     "output_type": "stream",
     "text": [
      "Model: \"model\"\n",
      "_________________________________________________________________\n",
      "Layer (type)                 Output Shape              Param #   \n",
      "=================================================================\n",
      "input_3 (InputLayer)         [(None, 224, 224, 3)]     0         \n",
      "_________________________________________________________________\n",
      "block1_conv1 (Conv2D)        (None, 224, 224, 64)      1792      \n",
      "_________________________________________________________________\n",
      "block1_conv2 (Conv2D)        (None, 224, 224, 64)      36928     \n",
      "_________________________________________________________________\n",
      "block1_pool (MaxPooling2D)   (None, 112, 112, 64)      0         \n",
      "_________________________________________________________________\n",
      "block2_conv1 (Conv2D)        (None, 112, 112, 128)     73856     \n",
      "_________________________________________________________________\n",
      "block2_conv2 (Conv2D)        (None, 112, 112, 128)     147584    \n",
      "_________________________________________________________________\n",
      "block2_pool (MaxPooling2D)   (None, 56, 56, 128)       0         \n",
      "_________________________________________________________________\n",
      "block3_conv1 (Conv2D)        (None, 56, 56, 256)       295168    \n",
      "_________________________________________________________________\n",
      "block3_conv2 (Conv2D)        (None, 56, 56, 256)       590080    \n",
      "_________________________________________________________________\n",
      "block3_conv3 (Conv2D)        (None, 56, 56, 256)       590080    \n",
      "_________________________________________________________________\n",
      "block3_conv4 (Conv2D)        (None, 56, 56, 256)       590080    \n",
      "_________________________________________________________________\n",
      "block3_pool (MaxPooling2D)   (None, 28, 28, 256)       0         \n",
      "_________________________________________________________________\n",
      "block4_conv1 (Conv2D)        (None, 28, 28, 512)       1180160   \n",
      "_________________________________________________________________\n",
      "block4_conv2 (Conv2D)        (None, 28, 28, 512)       2359808   \n",
      "_________________________________________________________________\n",
      "block4_conv3 (Conv2D)        (None, 28, 28, 512)       2359808   \n",
      "_________________________________________________________________\n",
      "block4_conv4 (Conv2D)        (None, 28, 28, 512)       2359808   \n",
      "_________________________________________________________________\n",
      "block4_pool (MaxPooling2D)   (None, 14, 14, 512)       0         \n",
      "_________________________________________________________________\n",
      "block5_conv1 (Conv2D)        (None, 14, 14, 512)       2359808   \n",
      "_________________________________________________________________\n",
      "block5_conv2 (Conv2D)        (None, 14, 14, 512)       2359808   \n",
      "_________________________________________________________________\n",
      "block5_conv3 (Conv2D)        (None, 14, 14, 512)       2359808   \n",
      "_________________________________________________________________\n",
      "block5_conv4 (Conv2D)        (None, 14, 14, 512)       2359808   \n",
      "_________________________________________________________________\n",
      "block5_pool (MaxPooling2D)   (None, 7, 7, 512)         0         \n",
      "_________________________________________________________________\n",
      "flatten (Flatten)            (None, 25088)             0         \n",
      "_________________________________________________________________\n",
      "dense (Dense)                (None, 2)                 50178     \n",
      "=================================================================\n",
      "Total params: 20,074,562\n",
      "Trainable params: 50,178\n",
      "Non-trainable params: 20,024,384\n",
      "_________________________________________________________________\n"
     ]
    }
   ],
   "source": [
    "\n",
    "# view the structure of the model\n",
    "model.summary()\n"
   ]
  },
  {
   "cell_type": "code",
   "execution_count": 18,
   "metadata": {},
   "outputs": [],
   "source": [
    "from tensorflow.keras.layers import MaxPooling2D"
   ]
  },
  {
   "cell_type": "code",
   "execution_count": 19,
   "metadata": {},
   "outputs": [
    {
     "name": "stdout",
     "output_type": "stream",
     "text": [
      "Model: \"sequential\"\n",
      "_________________________________________________________________\n",
      "Layer (type)                 Output Shape              Param #   \n",
      "=================================================================\n",
      "conv2d (Conv2D)              (None, 224, 224, 16)      208       \n",
      "_________________________________________________________________\n",
      "max_pooling2d (MaxPooling2D) (None, 112, 112, 16)      0         \n",
      "_________________________________________________________________\n",
      "conv2d_1 (Conv2D)            (None, 112, 112, 32)      2080      \n",
      "_________________________________________________________________\n",
      "max_pooling2d_1 (MaxPooling2 (None, 56, 56, 32)        0         \n",
      "_________________________________________________________________\n",
      "conv2d_2 (Conv2D)            (None, 56, 56, 64)        8256      \n",
      "_________________________________________________________________\n",
      "max_pooling2d_2 (MaxPooling2 (None, 28, 28, 64)        0         \n",
      "_________________________________________________________________\n",
      "flatten_1 (Flatten)          (None, 50176)             0         \n",
      "_________________________________________________________________\n",
      "dense_1 (Dense)              (None, 500)               25088500  \n",
      "_________________________________________________________________\n",
      "dense_2 (Dense)              (None, 2)                 1002      \n",
      "=================================================================\n",
      "Total params: 25,100,046\n",
      "Trainable params: 25,100,046\n",
      "Non-trainable params: 0\n",
      "_________________________________________________________________\n"
     ]
    }
   ],
   "source": [
    "### Create Model from scratch using CNN\n",
    "model=Sequential()\n",
    "model.add(Conv2D(filters=16,kernel_size=2,padding=\"same\",activation=\"relu\",input_shape=(224,224,3)))\n",
    "model.add(MaxPooling2D(pool_size=2))\n",
    "model.add(Conv2D(filters=32,kernel_size=2,padding=\"same\",activation =\"relu\"))\n",
    "model.add(MaxPooling2D(pool_size=2))\n",
    "model.add(Conv2D(filters=64,kernel_size=2,padding=\"same\",activation=\"relu\"))\n",
    "model.add(MaxPooling2D(pool_size=2))\n",
    "model.add(Flatten())\n",
    "model.add(Dense(500,activation=\"relu\"))\n",
    "model.add(Dense(2,activation=\"softmax\"))\n",
    "model.summary()"
   ]
  },
  {
   "cell_type": "code",
   "execution_count": 20,
   "metadata": {},
   "outputs": [],
   "source": [
    "# tell the model what cost and optimization method to use\n",
    "model.compile(\n",
    "  loss='categorical_crossentropy',\n",
    "  optimizer='adam',\n",
    "  metrics=['accuracy']\n",
    ")\n"
   ]
  },
  {
   "cell_type": "code",
   "execution_count": 21,
   "metadata": {},
   "outputs": [],
   "source": [
    "# Use the Image Data Generator to import the images from the dataset\n",
    "from tensorflow.keras.preprocessing.image import ImageDataGenerator\n",
    "\n",
    "train_datagen = ImageDataGenerator(rescale = 1./255,\n",
    "                                   shear_range = 0.2,\n",
    "                                   zoom_range = 0.2,\n",
    "                                   horizontal_flip = True)\n",
    "\n",
    "test_datagen = ImageDataGenerator(rescale = 1./255)"
   ]
  },
  {
   "cell_type": "code",
   "execution_count": 22,
   "metadata": {},
   "outputs": [
    {
     "name": "stdout",
     "output_type": "stream",
     "text": [
      "Found 416 images belonging to 2 classes.\n"
     ]
    }
   ],
   "source": [
    "# Make sure you provide the same target size as initialied for the image size\n",
    "training_set = train_datagen.flow_from_directory('Dataset/Train',\n",
    "                                                 target_size = (224, 224),\n",
    "                                                 batch_size = 32,\n",
    "                                                 class_mode = 'categorical')"
   ]
  },
  {
   "cell_type": "code",
   "execution_count": 23,
   "metadata": {},
   "outputs": [
    {
     "data": {
      "text/plain": [
       "<tensorflow.python.keras.preprocessing.image.DirectoryIterator at 0x2058a052730>"
      ]
     },
     "execution_count": 23,
     "metadata": {},
     "output_type": "execute_result"
    }
   ],
   "source": [
    "training_set"
   ]
  },
  {
   "cell_type": "code",
   "execution_count": 24,
   "metadata": {},
   "outputs": [
    {
     "name": "stdout",
     "output_type": "stream",
     "text": [
      "Found 134 images belonging to 2 classes.\n"
     ]
    }
   ],
   "source": [
    "test_set = test_datagen.flow_from_directory('Dataset/Test',\n",
    "                                            target_size = (224, 224),\n",
    "                                            batch_size = 32,\n",
    "                                            class_mode = 'categorical')"
   ]
  },
  {
   "cell_type": "code",
   "execution_count": null,
   "metadata": {
    "scrolled": true
   },
   "outputs": [
    {
     "name": "stdout",
     "output_type": "stream",
     "text": [
      "Epoch 1/40\n",
      "13/13 [==============================] - 11s 771ms/step - loss: 1.9967 - accuracy: 0.4724 - val_loss: 0.6883 - val_accuracy: 0.5522\n",
      "Epoch 2/40\n",
      "13/13 [==============================] - 10s 797ms/step - loss: 0.5866 - accuracy: 0.6917 - val_loss: 0.7690 - val_accuracy: 0.3881\n",
      "Epoch 3/40\n",
      "13/13 [==============================] - 10s 748ms/step - loss: 0.4727 - accuracy: 0.7342 - val_loss: 0.8567 - val_accuracy: 0.3806\n",
      "Epoch 4/40\n",
      "13/13 [==============================] - 11s 883ms/step - loss: 0.4912 - accuracy: 0.7643 - val_loss: 0.8955 - val_accuracy: 0.4478\n",
      "Epoch 5/40\n",
      "13/13 [==============================] - 11s 834ms/step - loss: 0.3935 - accuracy: 0.8020 - val_loss: 0.7439 - val_accuracy: 0.4552\n",
      "Epoch 6/40\n",
      "13/13 [==============================] - 11s 873ms/step - loss: 0.3784 - accuracy: 0.8096 - val_loss: 0.8287 - val_accuracy: 0.4851\n",
      "Epoch 7/40\n",
      "13/13 [==============================] - 11s 837ms/step - loss: 0.3369 - accuracy: 0.8561 - val_loss: 0.7563 - val_accuracy: 0.5299\n",
      "Epoch 8/40\n",
      "13/13 [==============================] - 12s 899ms/step - loss: 0.3124 - accuracy: 0.8711 - val_loss: 0.6443 - val_accuracy: 0.6642\n",
      "Epoch 9/40\n",
      "13/13 [==============================] - 11s 831ms/step - loss: 0.2588 - accuracy: 0.9082 - val_loss: 0.4441 - val_accuracy: 0.7761\n",
      "Epoch 10/40\n",
      "13/13 [==============================] - 11s 833ms/step - loss: 0.2327 - accuracy: 0.9073 - val_loss: 0.5197 - val_accuracy: 0.7463\n",
      "Epoch 11/40\n",
      "13/13 [==============================] - 11s 848ms/step - loss: 0.1994 - accuracy: 0.9232 - val_loss: 0.4950 - val_accuracy: 0.7687\n",
      "Epoch 12/40\n",
      "13/13 [==============================] - 11s 859ms/step - loss: 0.1915 - accuracy: 0.9348 - val_loss: 0.2929 - val_accuracy: 0.8507\n",
      "Epoch 13/40\n",
      "13/13 [==============================] - 11s 847ms/step - loss: 0.1502 - accuracy: 0.9626 - val_loss: 0.3524 - val_accuracy: 0.8134\n",
      "Epoch 14/40\n",
      "13/13 [==============================] - 11s 854ms/step - loss: 0.1336 - accuracy: 0.9652 - val_loss: 0.2219 - val_accuracy: 0.9254\n",
      "Epoch 15/40\n",
      "13/13 [==============================] - 11s 839ms/step - loss: 0.1380 - accuracy: 0.9716 - val_loss: 0.6035 - val_accuracy: 0.7687\n",
      "Epoch 16/40\n",
      "13/13 [==============================] - 11s 855ms/step - loss: 0.1890 - accuracy: 0.9156 - val_loss: 0.6633 - val_accuracy: 0.6791\n",
      "Epoch 17/40\n",
      "13/13 [==============================] - 11s 861ms/step - loss: 0.1889 - accuracy: 0.9376 - val_loss: 0.5039 - val_accuracy: 0.7985\n",
      "Epoch 18/40\n",
      "13/13 [==============================] - 11s 838ms/step - loss: 0.1110 - accuracy: 0.9588 - val_loss: 0.3462 - val_accuracy: 0.8433\n",
      "Epoch 19/40\n",
      " 6/13 [============>.................] - ETA: 5s - loss: 0.0635 - accuracy: 0.9898"
     ]
    }
   ],
   "source": [
    "# fit the model\n",
    "# Run the cell. It will take some time to execute\n",
    "r = model.fit(\n",
    "  training_set,\n",
    "  validation_data=test_set,\n",
    "  epochs=40,\n",
    "  steps_per_epoch=len(training_set),\n",
    "  validation_steps=len(test_set)\n",
    ")"
   ]
  },
  {
   "cell_type": "code",
   "execution_count": null,
   "metadata": {},
   "outputs": [],
   "source": []
  },
  {
   "cell_type": "code",
   "execution_count": 20,
   "metadata": {},
   "outputs": [
    {
     "data": {
      "image/png": "[encoded data removed]",
      "text/plain": [
       "<Figure size 432x288 with 1 Axes>"
      ]
     },
     "metadata": {
      "needs_background": "light"
     },
     "output_type": "display_data"
    },
    {
     "data": {
      "image/png": "[encoded data removed]",
      "text/plain": [
       "<Figure size 432x288 with 1 Axes>"
      ]
     },
     "metadata": {
      "needs_background": "light"
     },
     "output_type": "display_data"
    },
    {
     "data": {
      "text/plain": [
       "<Figure size 432x288 with 0 Axes>"
      ]
     },
     "metadata": {},
     "output_type": "display_data"
    }
   ],
   "source": [
    "# plot the loss\n",
    "plt.plot(r.history['loss'], label='train loss')\n",
    "plt.plot(r.history['val_loss'], label='val loss')\n",
    "plt.legend()\n",
    "plt.show()\n",
    "plt.savefig('LossVal_loss')\n",
    "\n",
    "# plot the accuracy\n",
    "plt.plot(r.history['accuracy'], label='train acc')\n",
    "plt.plot(r.history['val_accuracy'], label='val acc')\n",
    "plt.legend()\n",
    "plt.show()\n",
    "plt.savefig('AccVal_acc')"
   ]
  },
  {
   "cell_type": "code",
   "execution_count": 21,
   "metadata": {},
   "outputs": [],
   "source": [
    "# save it as a h5 file\n",
    "\n",
    "\n",
    "from tensorflow.keras.models import load_model\n",
    "\n",
    "model.save('model_vgg19.h5')"
   ]
  },
  {
   "cell_type": "code",
   "execution_count": null,
   "metadata": {},
   "outputs": [],
   "source": []
  },
  {
   "cell_type": "code",
   "execution_count": 22,
   "metadata": {},
   "outputs": [],
   "source": [
    "\n",
    "y_pred = model.predict(test_set)\n"
   ]
  },
  {
   "cell_type": "code",
   "execution_count": 23,
   "metadata": {},
   "outputs": [
    {
     "data": {
      "text/plain": [
       "array([[2.06609871e-02, 9.79339063e-01],\n",
       "       [1.00000000e+00, 4.27957571e-22],\n",
       "       [9.99992490e-01, 7.45518764e-06],\n",
       "       [6.59419119e-01, 3.40580851e-01],\n",
       "       [6.59239432e-03, 9.93407607e-01],\n",
       "       [1.00000000e+00, 3.92685573e-09],\n",
       "       [1.32756338e-01, 8.67243707e-01],\n",
       "       [1.00000000e+00, 1.84776161e-16],\n",
       "       [9.99999523e-01, 4.37754011e-07],\n",
       "       [1.00000000e+00, 7.94103711e-16],\n",
       "       [7.12991774e-01, 2.87008196e-01],\n",
       "       [9.99925852e-01, 7.41037948e-05],\n",
       "       [9.99999046e-01, 9.53928065e-07],\n",
       "       [8.99489343e-01, 1.00510664e-01],\n",
       "       [8.38662386e-02, 9.16133761e-01],\n",
       "       [9.99998808e-01, 1.24776875e-06],\n",
       "       [9.99940991e-01, 5.90577038e-05],\n",
       "       [4.62757587e-01, 5.37242472e-01],\n",
       "       [9.99879241e-01, 1.20763587e-04],\n",
       "       [4.04788442e-02, 9.59521174e-01],\n",
       "       [5.68652079e-02, 9.43134844e-01],\n",
       "       [1.00000000e+00, 1.71528135e-12],\n",
       "       [1.62159260e-02, 9.83784080e-01],\n",
       "       [4.92742658e-02, 9.50725734e-01],\n",
       "       [9.99996543e-01, 3.43339730e-06],\n",
       "       [9.99972820e-01, 2.71518529e-05],\n",
       "       [1.22210020e-02, 9.87778962e-01],\n",
       "       [9.59539175e-01, 4.04608399e-02],\n",
       "       [9.99999523e-01, 4.33885361e-07],\n",
       "       [9.95418906e-01, 4.58112126e-03],\n",
       "       [1.11210749e-01, 8.88789237e-01],\n",
       "       [9.99999404e-01, 6.25342636e-07],\n",
       "       [2.14592233e-01, 7.85407782e-01],\n",
       "       [1.00000000e+00, 2.66506912e-12],\n",
       "       [4.36473079e-02, 9.56352651e-01],\n",
       "       [6.18171096e-01, 3.81828845e-01],\n",
       "       [9.99826968e-01, 1.73065593e-04],\n",
       "       [9.97832477e-01, 2.16754572e-03],\n",
       "       [1.00000000e+00, 1.61321534e-08],\n",
       "       [9.99995470e-01, 4.54188876e-06],\n",
       "       [1.32199349e-02, 9.86779988e-01],\n",
       "       [7.32045531e-01, 2.67954499e-01],\n",
       "       [1.75879285e-01, 8.24120760e-01],\n",
       "       [1.00000000e+00, 4.33374895e-18],\n",
       "       [9.99990702e-01, 9.31692466e-06],\n",
       "       [1.00000000e+00, 1.48378775e-11],\n",
       "       [2.09941119e-02, 9.79005873e-01],\n",
       "       [1.00000000e+00, 4.43493331e-09],\n",
       "       [4.64473851e-02, 9.53552604e-01],\n",
       "       [1.00000000e+00, 1.18582973e-11],\n",
       "       [5.32958284e-02, 9.46704149e-01],\n",
       "       [1.79587364e-01, 8.20412695e-01],\n",
       "       [9.99997854e-01, 2.11451925e-06],\n",
       "       [9.99338090e-01, 6.61909056e-04],\n",
       "       [1.00000000e+00, 5.72373189e-08],\n",
       "       [2.23598391e-01, 7.76401639e-01],\n",
       "       [7.96575308e-01, 2.03424707e-01],\n",
       "       [2.59404361e-01, 7.40595639e-01],\n",
       "       [9.99222994e-01, 7.76999805e-04],\n",
       "       [1.34121463e-01, 8.65878522e-01],\n",
       "       [3.09339464e-01, 6.90660536e-01],\n",
       "       [1.00000000e+00, 4.12137311e-13],\n",
       "       [9.99959350e-01, 4.06486179e-05],\n",
       "       [3.28704983e-01, 6.71295047e-01],\n",
       "       [9.99998569e-01, 1.43976013e-06],\n",
       "       [9.99999762e-01, 1.80875716e-07],\n",
       "       [1.77581102e-01, 8.22418928e-01],\n",
       "       [1.00000000e+00, 1.28917949e-14],\n",
       "       [9.99999642e-01, 2.99074571e-07],\n",
       "       [9.99999762e-01, 2.39198300e-07],\n",
       "       [2.57681727e-01, 7.42318213e-01],\n",
       "       [1.71444580e-01, 8.28555405e-01],\n",
       "       [1.24286920e-01, 8.75713110e-01],\n",
       "       [1.00000000e+00, 4.23964119e-12],\n",
       "       [9.52631295e-01, 4.73687015e-02],\n",
       "       [7.19429553e-01, 2.80570477e-01],\n",
       "       [9.99999762e-01, 2.15361538e-07],\n",
       "       [9.99988317e-01, 1.16888887e-05],\n",
       "       [9.99992251e-01, 7.69160397e-06],\n",
       "       [9.99998927e-01, 1.10126143e-06],\n",
       "       [4.83504593e-01, 5.16495407e-01],\n",
       "       [9.99998212e-01, 1.74598961e-06],\n",
       "       [9.98795390e-01, 1.20454107e-03],\n",
       "       [1.00000000e+00, 7.28602833e-14],\n",
       "       [2.03035161e-01, 7.96964824e-01],\n",
       "       [1.00000000e+00, 1.58272440e-09],\n",
       "       [9.78828907e-01, 2.11710818e-02],\n",
       "       [9.99750316e-01, 2.49721808e-04],\n",
       "       [1.00000000e+00, 7.00485804e-26],\n",
       "       [5.53678572e-02, 9.44632113e-01],\n",
       "       [9.99979496e-01, 2.05425513e-05],\n",
       "       [6.25540197e-01, 3.74459803e-01],\n",
       "       [3.63664366e-02, 9.63633537e-01],\n",
       "       [2.06734747e-01, 7.93265283e-01],\n",
       "       [3.64552699e-02, 9.63544726e-01],\n",
       "       [9.99995708e-01, 4.34254844e-06],\n",
       "       [9.99767601e-01, 2.32354272e-04],\n",
       "       [1.00000000e+00, 1.63481744e-08],\n",
       "       [1.00000000e+00, 2.23341723e-09],\n",
       "       [4.95806485e-02, 9.50419307e-01],\n",
       "       [9.98852134e-01, 1.14784809e-03],\n",
       "       [9.99908090e-01, 9.19338272e-05],\n",
       "       [1.49402078e-02, 9.85059857e-01],\n",
       "       [1.00000000e+00, 3.36547235e-10],\n",
       "       [9.99998569e-01, 1.44406147e-06],\n",
       "       [9.99872208e-01, 1.27761246e-04],\n",
       "       [9.99879003e-01, 1.21035897e-04],\n",
       "       [9.99997497e-01, 2.46517288e-06],\n",
       "       [3.61832589e-01, 6.38167441e-01],\n",
       "       [1.57583982e-01, 8.42416048e-01],\n",
       "       [8.99804756e-02, 9.10019517e-01],\n",
       "       [1.69254631e-01, 8.30745339e-01],\n",
       "       [5.84019534e-02, 9.41597998e-01],\n",
       "       [3.81646119e-02, 9.61835384e-01],\n",
       "       [9.99999762e-01, 1.83015501e-07],\n",
       "       [9.98801470e-01, 1.19848899e-03],\n",
       "       [1.00000000e+00, 3.05577720e-13],\n",
       "       [9.99995351e-01, 4.63692686e-06],\n",
       "       [9.99993086e-01, 6.89227591e-06],\n",
       "       [1.00000000e+00, 8.18661944e-11],\n",
       "       [9.99214172e-01, 7.85814598e-04],\n",
       "       [3.15800793e-02, 9.68419909e-01],\n",
       "       [9.89487290e-01, 1.05126854e-02],\n",
       "       [4.70877707e-01, 5.29122353e-01],\n",
       "       [1.98960360e-02, 9.80103970e-01],\n",
       "       [2.24947080e-01, 7.75052845e-01],\n",
       "       [6.85046732e-01, 3.14953327e-01],\n",
       "       [9.84875932e-02, 9.01512384e-01],\n",
       "       [1.00000000e+00, 4.14653797e-11],\n",
       "       [5.37577160e-02, 9.46242273e-01],\n",
       "       [4.45287786e-02, 9.55471158e-01],\n",
       "       [9.99957442e-01, 4.25601975e-05],\n",
       "       [1.00000000e+00, 2.00802430e-11],\n",
       "       [2.64512803e-02, 9.73548710e-01]], dtype=float32)"
      ]
     },
     "execution_count": 23,
     "metadata": {},
     "output_type": "execute_result"
    }
   ],
   "source": [
    "y_pred"
   ]
  },
  {
   "cell_type": "code",
   "execution_count": 24,
   "metadata": {},
   "outputs": [],
   "source": [
    "import numpy as np\n",
    "y_pred = np.argmax(y_pred, axis=1)"
   ]
  },
  {
   "cell_type": "code",
   "execution_count": 25,
   "metadata": {},
   "outputs": [
    {
     "data": {
      "text/plain": [
       "array([1, 0, 0, 0, 1, 0, 1, 0, 0, 0, 0, 0, 0, 0, 1, 0, 0, 1, 0, 1, 1, 0,\n",
       "       1, 1, 0, 0, 1, 0, 0, 0, 1, 0, 1, 0, 1, 0, 0, 0, 0, 0, 1, 0, 1, 0,\n",
       "       0, 0, 1, 0, 1, 0, 1, 1, 0, 0, 0, 1, 0, 1, 0, 1, 1, 0, 0, 1, 0, 0,\n",
       "       1, 0, 0, 0, 1, 1, 1, 0, 0, 0, 0, 0, 0, 0, 1, 0, 0, 0, 1, 0, 0, 0,\n",
       "       0, 1, 0, 0, 1, 1, 1, 0, 0, 0, 0, 1, 0, 0, 1, 0, 0, 0, 0, 0, 1, 1,\n",
       "       1, 1, 1, 1, 0, 0, 0, 0, 0, 0, 0, 1, 0, 1, 1, 1, 0, 1, 0, 1, 1, 0,\n",
       "       0, 1], dtype=int64)"
      ]
     },
     "execution_count": 25,
     "metadata": {},
     "output_type": "execute_result"
    }
   ],
   "source": [
    "y_pred"
   ]
  },
  {
   "cell_type": "code",
   "execution_count": null,
   "metadata": {},
   "outputs": [],
   "source": []
  },
  {
   "cell_type": "code",
   "execution_count": 26,
   "metadata": {},
   "outputs": [],
   "source": [
    "from tensorflow.keras.models import load_model\n",
    "from tensorflow.keras.preprocessing import image"
   ]
  },
  {
   "cell_type": "code",
   "execution_count": 27,
   "metadata": {},
   "outputs": [],
   "source": [
    "model=load_model('model_vgg19.h5')"
   ]
  },
  {
   "cell_type": "code",
   "execution_count": null,
   "metadata": {},
   "outputs": [],
   "source": []
  },
  {
   "cell_type": "code",
   "execution_count": 28,
   "metadata": {},
   "outputs": [],
   "source": [
    "img=image.load_img('Dataset/Test/Uninfected/2.png',target_size=(224,224))\n",
    "\n"
   ]
  },
  {
   "cell_type": "code",
   "execution_count": 29,
   "metadata": {},
   "outputs": [
    {
     "data": {
      "text/plain": [
       "array([[[0., 0., 0.],\n",
       "        [0., 0., 0.],\n",
       "        [0., 0., 0.],\n",
       "        ...,\n",
       "        [0., 0., 0.],\n",
       "        [0., 0., 0.],\n",
       "        [0., 0., 0.]],\n",
       "\n",
       "       [[0., 0., 0.],\n",
       "        [0., 0., 0.],\n",
       "        [0., 0., 0.],\n",
       "        ...,\n",
       "        [0., 0., 0.],\n",
       "        [0., 0., 0.],\n",
       "        [0., 0., 0.]],\n",
       "\n",
       "       [[0., 0., 0.],\n",
       "        [0., 0., 0.],\n",
       "        [0., 0., 0.],\n",
       "        ...,\n",
       "        [0., 0., 0.],\n",
       "        [0., 0., 0.],\n",
       "        [0., 0., 0.]],\n",
       "\n",
       "       ...,\n",
       "\n",
       "       [[0., 0., 0.],\n",
       "        [0., 0., 0.],\n",
       "        [0., 0., 0.],\n",
       "        ...,\n",
       "        [0., 0., 0.],\n",
       "        [0., 0., 0.],\n",
       "        [0., 0., 0.]],\n",
       "\n",
       "       [[0., 0., 0.],\n",
       "        [0., 0., 0.],\n",
       "        [0., 0., 0.],\n",
       "        ...,\n",
       "        [0., 0., 0.],\n",
       "        [0., 0., 0.],\n",
       "        [0., 0., 0.]],\n",
       "\n",
       "       [[0., 0., 0.],\n",
       "        [0., 0., 0.],\n",
       "        [0., 0., 0.],\n",
       "        ...,\n",
       "        [0., 0., 0.],\n",
       "        [0., 0., 0.],\n",
       "        [0., 0., 0.]]], dtype=float32)"
      ]
     },
     "execution_count": 29,
     "metadata": {},
     "output_type": "execute_result"
    }
   ],
   "source": [
    "x=image.img_to_array(img)\n",
    "x"
   ]
  },
  {
   "cell_type": "code",
   "execution_count": 30,
   "metadata": {},
   "outputs": [
    {
     "data": {
      "text/plain": [
       "(224, 224, 3)"
      ]
     },
     "execution_count": 30,
     "metadata": {},
     "output_type": "execute_result"
    }
   ],
   "source": [
    "x.shape"
   ]
  },
  {
   "cell_type": "code",
   "execution_count": 31,
   "metadata": {},
   "outputs": [],
   "source": [
    "x=x/255"
   ]
  },
  {
   "cell_type": "code",
   "execution_count": 32,
   "metadata": {},
   "outputs": [
    {
     "data": {
      "text/plain": [
       "(1, 224, 224, 3)"
      ]
     },
     "execution_count": 32,
     "metadata": {},
     "output_type": "execute_result"
    }
   ],
   "source": [
    "x=np.expand_dims(x,axis=0)\n",
    "img_data=preprocess_input(x)\n",
    "img_data.shape"
   ]
  },
  {
   "cell_type": "code",
   "execution_count": 36,
   "metadata": {},
   "outputs": [
    {
     "data": {
      "text/plain": [
       "array([[1., 0.]], dtype=float32)"
      ]
     },
     "execution_count": 36,
     "metadata": {},
     "output_type": "execute_result"
    }
   ],
   "source": [
    "model.predict(img_data)"
   ]
  },
  {
   "cell_type": "code",
   "execution_count": 37,
   "metadata": {},
   "outputs": [],
   "source": [
    "a=np.argmax(model.predict(img_data), axis=1)"
   ]
  },
  {
   "cell_type": "code",
   "execution_count": 38,
   "metadata": {},
   "outputs": [
    {
     "name": "stdout",
     "output_type": "stream",
     "text": [
      "Infected\n"
     ]
    }
   ],
   "source": [
    "if(a==1):\n",
    "    print(\"Uninfected\")\n",
    "else:\n",
    "    print(\"Infected\")"
   ]
  },
  {
   "cell_type": "code",
   "execution_count": null,
   "metadata": {},
   "outputs": [],
   "source": []
  }
 ],
 "metadata": {
  "kernelspec": {
   "display_name": "Python 3",
   "language": "python",
   "name": "python3"
  },
  "language_info": {
   "codemirror_mode": {
    "name": "ipython",
    "version": 3
   },
   "file_extension": ".py",
   "mimetype": "text/x-python",
   "name": "python",
   "nbconvert_exporter": "python",
   "pygments_lexer": "ipython3",
   "version": "3.8.5"
  }
 },
 "nbformat": 4,
 "nbformat_minor": 2
}
