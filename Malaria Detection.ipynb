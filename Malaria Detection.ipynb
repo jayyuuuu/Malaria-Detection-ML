{
 "cells": [
  {
   "cell_type": "markdown",
   "metadata": {},
   "source": [
    "# MOOC-PROJECT"
   ]
  },
  {
   "cell_type": "markdown",
   "metadata": {},
   "source": [
    "# Malaria Detection\n",
    "\n"
   ]
  },
  {
   "cell_type": "code",
   "execution_count": 1,
   "metadata": {},
   "outputs": [],
   "source": [
    "# import the libraries as shown below\n",
    "\n",
    "from tensorflow.keras.layers import Input, Lambda, Dense, Flatten,Conv2D\n",
    "from tensorflow.keras.models import Model\n",
    "from tensorflow.keras.applications.vgg19 import VGG19\n",
    "from tensorflow.keras.applications.resnet50 import preprocess_input\n",
    "from tensorflow.keras.preprocessing import image\n",
    "from tensorflow.keras.preprocessing.image import ImageDataGenerator,load_img\n",
    "from tensorflow.keras.models import Sequential\n",
    "import numpy as np\n",
    "from glob import glob\n",
    "import matplotlib.pyplot as plt"
   ]
  },
  {
   "cell_type": "code",
   "execution_count": 2,
   "metadata": {},
   "outputs": [
    {
     "name": "stdout",
     "output_type": "stream",
     "text": [
      "2.4.1\n"
     ]
    }
   ],
   "source": [
    "import tensorflow as tf;\n",
    "print(tf.__version__)"
   ]
  },
  {
   "cell_type": "code",
   "execution_count": 3,
   "metadata": {},
   "outputs": [],
   "source": [
    "# re-size all the images to this\n",
    "IMAGE_SIZE = [224, 224]\n",
    "\n",
    "train_path = 'Dataset/Train'\n",
    "valid_path = 'Dataset/Test'\n"
   ]
  },
  {
   "cell_type": "code",
   "execution_count": 4,
   "metadata": {},
   "outputs": [],
   "source": [
    "# Import the Vgg 16 library as shown below and add preprocessing layer to the front of VGG\n",
    "# Here we will be using imagenet weights\n",
    "\n",
    "vgg19 = VGG19(input_shape=IMAGE_SIZE + [3], weights='imagenet', include_top=False)\n",
    "\n",
    "\n"
   ]
  },
  {
   "cell_type": "code",
   "execution_count": 5,
   "metadata": {},
   "outputs": [
    {
     "name": "stdout",
     "output_type": "stream",
     "text": [
      "Model: \"vgg19\"\n",
      "_________________________________________________________________\n",
      "Layer (type)                 Output Shape              Param #   \n",
      "=================================================================\n",
      "input_1 (InputLayer)         [(None, 224, 224, 3)]     0         \n",
      "_________________________________________________________________\n",
      "block1_conv1 (Conv2D)        (None, 224, 224, 64)      1792      \n",
      "_________________________________________________________________\n",
      "block1_conv2 (Conv2D)        (None, 224, 224, 64)      36928     \n",
      "_________________________________________________________________\n",
      "block1_pool (MaxPooling2D)   (None, 112, 112, 64)      0         \n",
      "_________________________________________________________________\n",
      "block2_conv1 (Conv2D)        (None, 112, 112, 128)     73856     \n",
      "_________________________________________________________________\n",
      "block2_conv2 (Conv2D)        (None, 112, 112, 128)     147584    \n",
      "_________________________________________________________________\n",
      "block2_pool (MaxPooling2D)   (None, 56, 56, 128)       0         \n",
      "_________________________________________________________________\n",
      "block3_conv1 (Conv2D)        (None, 56, 56, 256)       295168    \n",
      "_________________________________________________________________\n",
      "block3_conv2 (Conv2D)        (None, 56, 56, 256)       590080    \n",
      "_________________________________________________________________\n",
      "block3_conv3 (Conv2D)        (None, 56, 56, 256)       590080    \n",
      "_________________________________________________________________\n",
      "block3_conv4 (Conv2D)        (None, 56, 56, 256)       590080    \n",
      "_________________________________________________________________\n",
      "block3_pool (MaxPooling2D)   (None, 28, 28, 256)       0         \n",
      "_________________________________________________________________\n",
      "block4_conv1 (Conv2D)        (None, 28, 28, 512)       1180160   \n",
      "_________________________________________________________________\n",
      "block4_conv2 (Conv2D)        (None, 28, 28, 512)       2359808   \n",
      "_________________________________________________________________\n",
      "block4_conv3 (Conv2D)        (None, 28, 28, 512)       2359808   \n",
      "_________________________________________________________________\n",
      "block4_conv4 (Conv2D)        (None, 28, 28, 512)       2359808   \n",
      "_________________________________________________________________\n",
      "block4_pool (MaxPooling2D)   (None, 14, 14, 512)       0         \n",
      "_________________________________________________________________\n",
      "block5_conv1 (Conv2D)        (None, 14, 14, 512)       2359808   \n",
      "_________________________________________________________________\n",
      "block5_conv2 (Conv2D)        (None, 14, 14, 512)       2359808   \n",
      "_________________________________________________________________\n",
      "block5_conv3 (Conv2D)        (None, 14, 14, 512)       2359808   \n",
      "_________________________________________________________________\n",
      "block5_conv4 (Conv2D)        (None, 14, 14, 512)       2359808   \n",
      "_________________________________________________________________\n",
      "block5_pool (MaxPooling2D)   (None, 7, 7, 512)         0         \n",
      "=================================================================\n",
      "Total params: 20,024,384\n",
      "Trainable params: 20,024,384\n",
      "Non-trainable params: 0\n",
      "_________________________________________________________________\n"
     ]
    }
   ],
   "source": [
    "vgg19.summary()"
   ]
  },
  {
   "cell_type": "code",
   "execution_count": 6,
   "metadata": {},
   "outputs": [],
   "source": [
    "# don't train existing weights\n",
    "for layer in vgg19.layers:\n",
    "    layer.trainable = False"
   ]
  },
  {
   "cell_type": "code",
   "execution_count": 7,
   "metadata": {},
   "outputs": [],
   "source": [
    "  # useful for getting number of output classes\n",
    "folders = glob('Dataset/Train/*')"
   ]
  },
  {
   "cell_type": "code",
   "execution_count": 8,
   "metadata": {},
   "outputs": [
    {
     "data": {
      "text/plain": [
       "['Dataset/Train\\\\Parasite', 'Dataset/Train\\\\Uninfected']"
      ]
     },
     "execution_count": 8,
     "metadata": {},
     "output_type": "execute_result"
    }
   ],
   "source": [
    "folders"
   ]
  },
  {
   "cell_type": "code",
   "execution_count": 9,
   "metadata": {},
   "outputs": [],
   "source": [
    "# our layers - you can add more if you want\n",
    "x = Flatten()(vgg19.output)"
   ]
  },
  {
   "cell_type": "code",
   "execution_count": 10,
   "metadata": {},
   "outputs": [],
   "source": [
    "prediction = Dense(len(folders), activation='softmax')(x)\n",
    "\n",
    "# create a model object\n",
    "model = Model(inputs=vgg19.input, outputs=prediction)"
   ]
  },
  {
   "cell_type": "code",
   "execution_count": 11,
   "metadata": {},
   "outputs": [
    {
     "name": "stdout",
     "output_type": "stream",
     "text": [
      "Model: \"model\"\n",
      "_________________________________________________________________\n",
      "Layer (type)                 Output Shape              Param #   \n",
      "=================================================================\n",
      "input_1 (InputLayer)         [(None, 224, 224, 3)]     0         \n",
      "_________________________________________________________________\n",
      "block1_conv1 (Conv2D)        (None, 224, 224, 64)      1792      \n",
      "_________________________________________________________________\n",
      "block1_conv2 (Conv2D)        (None, 224, 224, 64)      36928     \n",
      "_________________________________________________________________\n",
      "block1_pool (MaxPooling2D)   (None, 112, 112, 64)      0         \n",
      "_________________________________________________________________\n",
      "block2_conv1 (Conv2D)        (None, 112, 112, 128)     73856     \n",
      "_________________________________________________________________\n",
      "block2_conv2 (Conv2D)        (None, 112, 112, 128)     147584    \n",
      "_________________________________________________________________\n",
      "block2_pool (MaxPooling2D)   (None, 56, 56, 128)       0         \n",
      "_________________________________________________________________\n",
      "block3_conv1 (Conv2D)        (None, 56, 56, 256)       295168    \n",
      "_________________________________________________________________\n",
      "block3_conv2 (Conv2D)        (None, 56, 56, 256)       590080    \n",
      "_________________________________________________________________\n",
      "block3_conv3 (Conv2D)        (None, 56, 56, 256)       590080    \n",
      "_________________________________________________________________\n",
      "block3_conv4 (Conv2D)        (None, 56, 56, 256)       590080    \n",
      "_________________________________________________________________\n",
      "block3_pool (MaxPooling2D)   (None, 28, 28, 256)       0         \n",
      "_________________________________________________________________\n",
      "block4_conv1 (Conv2D)        (None, 28, 28, 512)       1180160   \n",
      "_________________________________________________________________\n",
      "block4_conv2 (Conv2D)        (None, 28, 28, 512)       2359808   \n",
      "_________________________________________________________________\n",
      "block4_conv3 (Conv2D)        (None, 28, 28, 512)       2359808   \n",
      "_________________________________________________________________\n",
      "block4_conv4 (Conv2D)        (None, 28, 28, 512)       2359808   \n",
      "_________________________________________________________________\n",
      "block4_pool (MaxPooling2D)   (None, 14, 14, 512)       0         \n",
      "_________________________________________________________________\n",
      "block5_conv1 (Conv2D)        (None, 14, 14, 512)       2359808   \n",
      "_________________________________________________________________\n",
      "block5_conv2 (Conv2D)        (None, 14, 14, 512)       2359808   \n",
      "_________________________________________________________________\n",
      "block5_conv3 (Conv2D)        (None, 14, 14, 512)       2359808   \n",
      "_________________________________________________________________\n",
      "block5_conv4 (Conv2D)        (None, 14, 14, 512)       2359808   \n",
      "_________________________________________________________________\n",
      "block5_pool (MaxPooling2D)   (None, 7, 7, 512)         0         \n",
      "_________________________________________________________________\n",
      "flatten (Flatten)            (None, 25088)             0         \n",
      "_________________________________________________________________\n",
      "dense (Dense)                (None, 2)                 50178     \n",
      "=================================================================\n",
      "Total params: 20,074,562\n",
      "Trainable params: 50,178\n",
      "Non-trainable params: 20,024,384\n",
      "_________________________________________________________________\n"
     ]
    }
   ],
   "source": [
    "\n",
    "# view the structure of the model\n",
    "model.summary()\n"
   ]
  },
  {
   "cell_type": "code",
   "execution_count": 12,
   "metadata": {},
   "outputs": [],
   "source": [
    "from tensorflow.keras.layers import MaxPooling2D"
   ]
  },
  {
   "cell_type": "code",
   "execution_count": 13,
   "metadata": {},
   "outputs": [
    {
     "name": "stdout",
     "output_type": "stream",
     "text": [
      "Model: \"sequential\"\n",
      "_________________________________________________________________\n",
      "Layer (type)                 Output Shape              Param #   \n",
      "=================================================================\n",
      "conv2d (Conv2D)              (None, 224, 224, 16)      208       \n",
      "_________________________________________________________________\n",
      "max_pooling2d (MaxPooling2D) (None, 112, 112, 16)      0         \n",
      "_________________________________________________________________\n",
      "conv2d_1 (Conv2D)            (None, 112, 112, 32)      2080      \n",
      "_________________________________________________________________\n",
      "max_pooling2d_1 (MaxPooling2 (None, 56, 56, 32)        0         \n",
      "_________________________________________________________________\n",
      "conv2d_2 (Conv2D)            (None, 56, 56, 64)        8256      \n",
      "_________________________________________________________________\n",
      "max_pooling2d_2 (MaxPooling2 (None, 28, 28, 64)        0         \n",
      "_________________________________________________________________\n",
      "flatten_1 (Flatten)          (None, 50176)             0         \n",
      "_________________________________________________________________\n",
      "dense_1 (Dense)              (None, 500)               25088500  \n",
      "_________________________________________________________________\n",
      "dense_2 (Dense)              (None, 2)                 1002      \n",
      "=================================================================\n",
      "Total params: 25,100,046\n",
      "Trainable params: 25,100,046\n",
      "Non-trainable params: 0\n",
      "_________________________________________________________________\n"
     ]
    }
   ],
   "source": [
    "### Create Model from scratch using CNN\n",
    "model=Sequential()\n",
    "model.add(Conv2D(filters=16,kernel_size=2,padding=\"same\",activation=\"relu\",input_shape=(224,224,3)))\n",
    "model.add(MaxPooling2D(pool_size=2))\n",
    "model.add(Conv2D(filters=32,kernel_size=2,padding=\"same\",activation =\"relu\"))\n",
    "model.add(MaxPooling2D(pool_size=2))\n",
    "model.add(Conv2D(filters=64,kernel_size=2,padding=\"same\",activation=\"relu\"))\n",
    "model.add(MaxPooling2D(pool_size=2))\n",
    "model.add(Flatten())\n",
    "model.add(Dense(500,activation=\"relu\"))\n",
    "model.add(Dense(2,activation=\"softmax\"))\n",
    "model.summary()"
   ]
  },
  {
   "cell_type": "code",
   "execution_count": 14,
   "metadata": {},
   "outputs": [],
   "source": [
    "# tell the model what cost and optimization method to use\n",
    "model.compile(\n",
    "  loss='categorical_crossentropy',\n",
    "  optimizer='adam',\n",
    "  metrics=['accuracy']\n",
    ")\n"
   ]
  },
  {
   "cell_type": "code",
   "execution_count": 15,
   "metadata": {},
   "outputs": [],
   "source": [
    "# Use the Image Data Generator to import the images from the dataset\n",
    "from tensorflow.keras.preprocessing.image import ImageDataGenerator\n",
    "\n",
    "train_datagen = ImageDataGenerator(rescale = 1./255,\n",
    "                                   shear_range = 0.2,\n",
    "                                   zoom_range = 0.2,\n",
    "                                   horizontal_flip = True)\n",
    "\n",
    "test_datagen = ImageDataGenerator(rescale = 1./255)"
   ]
  },
  {
   "cell_type": "code",
   "execution_count": 16,
   "metadata": {},
   "outputs": [
    {
     "name": "stdout",
     "output_type": "stream",
     "text": [
      "Found 416 images belonging to 2 classes.\n"
     ]
    }
   ],
   "source": [
    "training_set = train_datagen.flow_from_directory('Dataset/Train',\n",
    "                                                 target_size = (224, 224),\n",
    "                                                 batch_size = 32,\n",
    "                                                 class_mode = 'categorical')"
   ]
  },
  {
   "cell_type": "code",
   "execution_count": 17,
   "metadata": {},
   "outputs": [
    {
     "data": {
      "text/plain": [
       "<tensorflow.python.keras.preprocessing.image.DirectoryIterator at 0x2a800003700>"
      ]
     },
     "execution_count": 17,
     "metadata": {},
     "output_type": "execute_result"
    }
   ],
   "source": [
    "training_set"
   ]
  },
  {
   "cell_type": "code",
   "execution_count": 18,
   "metadata": {},
   "outputs": [
    {
     "name": "stdout",
     "output_type": "stream",
     "text": [
      "Found 134 images belonging to 2 classes.\n"
     ]
    }
   ],
   "source": [
    "test_set = test_datagen.flow_from_directory('Dataset/Test',\n",
    "                                            target_size = (224, 224),\n",
    "                                            batch_size = 32,\n",
    "                                            class_mode = 'categorical')"
   ]
  },
  {
   "cell_type": "code",
   "execution_count": 19,
   "metadata": {
    "scrolled": true
   },
   "outputs": [
    {
     "name": "stdout",
     "output_type": "stream",
     "text": [
      "Epoch 1/50\n",
      "13/13 [==============================] - 12s 856ms/step - loss: 3.2716 - accuracy: 0.5306 - val_loss: 0.6447 - val_accuracy: 0.6791\n",
      "Epoch 2/50\n",
      "13/13 [==============================] - 11s 871ms/step - loss: 0.6640 - accuracy: 0.5910 - val_loss: 0.7050 - val_accuracy: 0.6716\n",
      "Epoch 3/50\n",
      "13/13 [==============================] - 12s 879ms/step - loss: 0.5996 - accuracy: 0.6670 - val_loss: 1.0028 - val_accuracy: 0.3284\n",
      "Epoch 4/50\n",
      "13/13 [==============================] - 12s 936ms/step - loss: 0.5451 - accuracy: 0.6819 - val_loss: 0.8319 - val_accuracy: 0.3881\n",
      "Epoch 5/50\n",
      "13/13 [==============================] - 13s 986ms/step - loss: 0.4891 - accuracy: 0.7431 - val_loss: 0.9921 - val_accuracy: 0.3284\n",
      "Epoch 6/50\n",
      "13/13 [==============================] - 12s 934ms/step - loss: 0.4585 - accuracy: 0.7604 - val_loss: 1.4238 - val_accuracy: 0.3284\n",
      "Epoch 7/50\n",
      "13/13 [==============================] - 11s 878ms/step - loss: 0.4950 - accuracy: 0.7559 - val_loss: 0.8386 - val_accuracy: 0.4403\n",
      "Epoch 8/50\n",
      "13/13 [==============================] - 11s 863ms/step - loss: 0.3993 - accuracy: 0.8043 - val_loss: 0.8909 - val_accuracy: 0.4627\n",
      "Epoch 9/50\n",
      "13/13 [==============================] - 13s 1s/step - loss: 0.3862 - accuracy: 0.8138 - val_loss: 0.6403 - val_accuracy: 0.6493\n",
      "Epoch 10/50\n",
      "13/13 [==============================] - 13s 990ms/step - loss: 0.3023 - accuracy: 0.8989 - val_loss: 0.6134 - val_accuracy: 0.6493\n",
      "Epoch 11/50\n",
      "13/13 [==============================] - 12s 896ms/step - loss: 0.2300 - accuracy: 0.9165 - val_loss: 0.5176 - val_accuracy: 0.7388\n",
      "Epoch 12/50\n",
      "13/13 [==============================] - 12s 953ms/step - loss: 0.2487 - accuracy: 0.9026 - val_loss: 0.4134 - val_accuracy: 0.7985\n",
      "Epoch 13/50\n",
      "13/13 [==============================] - 13s 992ms/step - loss: 0.2134 - accuracy: 0.9321 - val_loss: 0.5434 - val_accuracy: 0.7463\n",
      "Epoch 14/50\n",
      "13/13 [==============================] - 12s 939ms/step - loss: 0.1795 - accuracy: 0.9422 - val_loss: 0.4404 - val_accuracy: 0.7985\n",
      "Epoch 15/50\n",
      "13/13 [==============================] - 13s 961ms/step - loss: 0.1401 - accuracy: 0.9574 - val_loss: 0.3354 - val_accuracy: 0.8582\n",
      "Epoch 16/50\n",
      "13/13 [==============================] - 14s 1s/step - loss: 0.1403 - accuracy: 0.9545 - val_loss: 0.3371 - val_accuracy: 0.8358\n",
      "Epoch 17/50\n",
      "13/13 [==============================] - 13s 984ms/step - loss: 0.1328 - accuracy: 0.9593 - val_loss: 0.4302 - val_accuracy: 0.8209\n",
      "Epoch 18/50\n",
      "13/13 [==============================] - 12s 947ms/step - loss: 0.1298 - accuracy: 0.9643 - val_loss: 0.3161 - val_accuracy: 0.8657\n",
      "Epoch 19/50\n",
      "13/13 [==============================] - 11s 846ms/step - loss: 0.1201 - accuracy: 0.9692 - val_loss: 0.2969 - val_accuracy: 0.8806\n",
      "Epoch 20/50\n",
      "13/13 [==============================] - 12s 895ms/step - loss: 0.0965 - accuracy: 0.9725 - val_loss: 0.2968 - val_accuracy: 0.8806\n",
      "Epoch 21/50\n",
      "13/13 [==============================] - 12s 886ms/step - loss: 0.0950 - accuracy: 0.9691 - val_loss: 0.2673 - val_accuracy: 0.8806\n",
      "Epoch 22/50\n",
      "13/13 [==============================] - 12s 874ms/step - loss: 0.0767 - accuracy: 0.9881 - val_loss: 0.6614 - val_accuracy: 0.7239\n",
      "Epoch 23/50\n",
      "13/13 [==============================] - 12s 885ms/step - loss: 0.0922 - accuracy: 0.9724 - val_loss: 0.4445 - val_accuracy: 0.8507\n",
      "Epoch 24/50\n",
      "13/13 [==============================] - 12s 886ms/step - loss: 0.1263 - accuracy: 0.9621 - val_loss: 0.3677 - val_accuracy: 0.8433\n",
      "Epoch 25/50\n",
      "13/13 [==============================] - 12s 909ms/step - loss: 0.1181 - accuracy: 0.9463 - val_loss: 0.2464 - val_accuracy: 0.8955\n",
      "Epoch 26/50\n",
      "13/13 [==============================] - 12s 926ms/step - loss: 0.1033 - accuracy: 0.9741 - val_loss: 0.3194 - val_accuracy: 0.8955\n",
      "Epoch 27/50\n",
      "13/13 [==============================] - 12s 889ms/step - loss: 0.0623 - accuracy: 0.9875 - val_loss: 0.4350 - val_accuracy: 0.8433\n",
      "Epoch 28/50\n",
      "13/13 [==============================] - 11s 832ms/step - loss: 0.1211 - accuracy: 0.9630 - val_loss: 0.3845 - val_accuracy: 0.8582\n",
      "Epoch 29/50\n",
      "13/13 [==============================] - 11s 876ms/step - loss: 0.0954 - accuracy: 0.9650 - val_loss: 0.2536 - val_accuracy: 0.8806\n",
      "Epoch 30/50\n",
      "13/13 [==============================] - 12s 891ms/step - loss: 0.0544 - accuracy: 0.9876 - val_loss: 0.2997 - val_accuracy: 0.8806\n",
      "Epoch 31/50\n",
      "13/13 [==============================] - 12s 879ms/step - loss: 0.0437 - accuracy: 0.9888 - val_loss: 0.2307 - val_accuracy: 0.9179\n",
      "Epoch 32/50\n",
      "13/13 [==============================] - 12s 904ms/step - loss: 0.0433 - accuracy: 0.9905 - val_loss: 0.2425 - val_accuracy: 0.9104\n",
      "Epoch 33/50\n",
      "13/13 [==============================] - 12s 947ms/step - loss: 0.0545 - accuracy: 0.9898 - val_loss: 0.2312 - val_accuracy: 0.9030\n",
      "Epoch 34/50\n",
      "13/13 [==============================] - 12s 888ms/step - loss: 0.0321 - accuracy: 0.9941 - val_loss: 0.2552 - val_accuracy: 0.9179\n",
      "Epoch 35/50\n",
      "13/13 [==============================] - 12s 918ms/step - loss: 0.0843 - accuracy: 0.9806 - val_loss: 0.5722 - val_accuracy: 0.8507\n",
      "Epoch 36/50\n",
      "13/13 [==============================] - 11s 869ms/step - loss: 0.0821 - accuracy: 0.9767 - val_loss: 0.3504 - val_accuracy: 0.8731\n",
      "Epoch 37/50\n",
      "13/13 [==============================] - 12s 943ms/step - loss: 0.0813 - accuracy: 0.9818 - val_loss: 0.4599 - val_accuracy: 0.8507\n",
      "Epoch 38/50\n",
      "13/13 [==============================] - 12s 910ms/step - loss: 0.0909 - accuracy: 0.9689 - val_loss: 0.2447 - val_accuracy: 0.9179\n",
      "Epoch 39/50\n",
      "13/13 [==============================] - 11s 872ms/step - loss: 0.0546 - accuracy: 0.9797 - val_loss: 0.3496 - val_accuracy: 0.8806\n",
      "Epoch 40/50\n",
      "13/13 [==============================] - 12s 904ms/step - loss: 0.0559 - accuracy: 0.9888 - val_loss: 0.4369 - val_accuracy: 0.8507\n",
      "Epoch 41/50\n",
      "13/13 [==============================] - 11s 861ms/step - loss: 0.2788 - accuracy: 0.8940 - val_loss: 0.6468 - val_accuracy: 0.7612\n",
      "Epoch 42/50\n",
      "13/13 [==============================] - 12s 902ms/step - loss: 0.1456 - accuracy: 0.9527 - val_loss: 0.3790 - val_accuracy: 0.8582\n",
      "Epoch 43/50\n",
      "13/13 [==============================] - 12s 922ms/step - loss: 0.1011 - accuracy: 0.9650 - val_loss: 0.2565 - val_accuracy: 0.8955\n",
      "Epoch 44/50\n",
      "13/13 [==============================] - 12s 908ms/step - loss: 0.0408 - accuracy: 0.9937 - val_loss: 0.3169 - val_accuracy: 0.8955\n",
      "Epoch 45/50\n",
      "13/13 [==============================] - 12s 925ms/step - loss: 0.0596 - accuracy: 0.9807 - val_loss: 0.2460 - val_accuracy: 0.8955\n",
      "Epoch 46/50\n",
      "13/13 [==============================] - 12s 908ms/step - loss: 0.0551 - accuracy: 0.9876 - val_loss: 0.2808 - val_accuracy: 0.9030\n",
      "Epoch 47/50\n",
      "13/13 [==============================] - 12s 890ms/step - loss: 0.0188 - accuracy: 0.9975 - val_loss: 0.3852 - val_accuracy: 0.8955\n",
      "Epoch 48/50\n",
      "13/13 [==============================] - 12s 880ms/step - loss: 0.0407 - accuracy: 0.9857 - val_loss: 0.3676 - val_accuracy: 0.8806\n",
      "Epoch 49/50\n",
      "13/13 [==============================] - 11s 857ms/step - loss: 0.0340 - accuracy: 0.9921 - val_loss: 0.1960 - val_accuracy: 0.9403\n",
      "Epoch 50/50\n",
      "13/13 [==============================] - 11s 831ms/step - loss: 0.0395 - accuracy: 0.9928 - val_loss: 0.5124 - val_accuracy: 0.8507\n"
     ]
    }
   ],
   "source": [
    "# fit the model\n",
    "# Run the cell. It will take some time to execute\n",
    "r = model.fit(\n",
    "  training_set,\n",
    "  validation_data=test_set,\n",
    "  epochs=50,\n",
    "  steps_per_epoch=len(training_set),\n",
    "  validation_steps=len(test_set)\n",
    ")"
   ]
  },
  {
   "cell_type": "code",
   "execution_count": null,
   "metadata": {},
   "outputs": [],
   "source": []
  },
  {
   "cell_type": "code",
   "execution_count": 20,
   "metadata": {},
   "outputs": [
    {
     "data": {
      "image/png": "[encoded data removed]",
      "text/plain": [
       "<Figure size 432x288 with 1 Axes>"
      ]
     },
     "metadata": {
      "needs_background": "light"
     },
     "output_type": "display_data"
    },
    {
     "data": {
      "image/png": "[encoded data removed]",
      "text/plain": [
       "<Figure size 432x288 with 1 Axes>"
      ]
     },
     "metadata": {
      "needs_background": "light"
     },
     "output_type": "display_data"
    },
    {
     "data": {
      "text/plain": [
       "<Figure size 432x288 with 0 Axes>"
      ]
     },
     "metadata": {},
     "output_type": "display_data"
    }
   ],
   "source": [
    "# plot the loss\n",
    "plt.plot(r.history['loss'], label='train loss')\n",
    "plt.plot(r.history['val_loss'], label='val loss')\n",
    "plt.legend()\n",
    "plt.show()\n",
    "plt.savefig('LossVal_loss')\n",
    "\n",
    "# plot the accuracy\n",
    "plt.plot(r.history['accuracy'], label='train acc')\n",
    "plt.plot(r.history['val_accuracy'], label='val acc')\n",
    "plt.legend()\n",
    "plt.show()\n",
    "plt.savefig('AccVal_acc')"
   ]
  },
  {
   "cell_type": "code",
   "execution_count": 21,
   "metadata": {},
   "outputs": [],
   "source": [
    "# save it as a h5 file\n",
    "\n",
    "\n",
    "from tensorflow.keras.models import load_model\n",
    "\n",
    "model.save('model_vgg19.h5')"
   ]
  },
  {
   "cell_type": "code",
   "execution_count": null,
   "metadata": {},
   "outputs": [],
   "source": []
  },
  {
   "cell_type": "code",
   "execution_count": 22,
   "metadata": {},
   "outputs": [],
   "source": [
    "\n",
    "y_pred = model.predict(test_set)\n"
   ]
  },
  {
   "cell_type": "code",
   "execution_count": 23,
   "metadata": {},
   "outputs": [
    {
     "data": {
      "text/plain": [
       "array([[3.50142643e-03, 9.96498585e-01],\n",
       "       [2.88912188e-03, 9.97110844e-01],\n",
       "       [9.99998808e-01, 1.17332445e-06],\n",
       "       [9.99080777e-01, 9.19266371e-04],\n",
       "       [3.27414786e-03, 9.96725798e-01],\n",
       "       [9.99822676e-01, 1.77376729e-04],\n",
       "       [1.00000000e+00, 3.05488729e-12],\n",
       "       [9.44138885e-01, 5.58611564e-02],\n",
       "       [9.99558508e-01, 4.41466633e-04],\n",
       "       [7.72920903e-03, 9.92270827e-01],\n",
       "       [1.00000000e+00, 3.36962347e-09],\n",
       "       [4.60742936e-02, 9.53925729e-01],\n",
       "       [1.00000000e+00, 6.05053829e-09],\n",
       "       [1.00000000e+00, 3.31007574e-24],\n",
       "       [1.00000000e+00, 2.84664310e-08],\n",
       "       [5.41792251e-03, 9.94582117e-01],\n",
       "       [1.00000000e+00, 3.21605241e-17],\n",
       "       [1.79749951e-01, 8.20250094e-01],\n",
       "       [1.67329970e-03, 9.98326719e-01],\n",
       "       [7.73992315e-02, 9.22600746e-01],\n",
       "       [1.00000000e+00, 1.21652438e-10],\n",
       "       [5.61743556e-03, 9.94382501e-01],\n",
       "       [4.64403210e-03, 9.95355964e-01],\n",
       "       [1.00000000e+00, 3.89734225e-14],\n",
       "       [1.49902115e-02, 9.85009730e-01],\n",
       "       [9.99609768e-01, 3.90206202e-04],\n",
       "       [9.99999642e-01, 3.04797965e-07],\n",
       "       [9.99893904e-01, 1.06132939e-04],\n",
       "       [1.00000000e+00, 2.29057116e-13],\n",
       "       [3.38250659e-02, 9.66174901e-01],\n",
       "       [1.00000000e+00, 9.24109151e-14],\n",
       "       [4.82862396e-03, 9.95171368e-01],\n",
       "       [9.99952316e-01, 4.77233189e-05],\n",
       "       [9.78766143e-01, 2.12338995e-02],\n",
       "       [9.99998569e-01, 1.41529097e-06],\n",
       "       [4.13264940e-03, 9.95867372e-01],\n",
       "       [3.62719432e-03, 9.96372819e-01],\n",
       "       [5.09382645e-03, 9.94906187e-01],\n",
       "       [9.99885201e-01, 1.14776754e-04],\n",
       "       [9.99778211e-01, 2.21797978e-04],\n",
       "       [9.98879611e-01, 1.12034532e-03],\n",
       "       [9.14186798e-03, 9.90858138e-01],\n",
       "       [4.69016522e-01, 5.30983508e-01],\n",
       "       [9.99599755e-01, 4.00220975e-04],\n",
       "       [1.40587683e-03, 9.98594105e-01],\n",
       "       [1.19082816e-02, 9.88091707e-01],\n",
       "       [7.55567895e-03, 9.92444336e-01],\n",
       "       [9.99979496e-01, 2.04728876e-05],\n",
       "       [1.00000000e+00, 8.89530463e-12],\n",
       "       [1.00000000e+00, 5.05246957e-22],\n",
       "       [2.67227497e-02, 9.73277330e-01],\n",
       "       [5.95042557e-02, 9.40495729e-01],\n",
       "       [9.99931097e-01, 6.89093868e-05],\n",
       "       [9.99614477e-01, 3.85519670e-04],\n",
       "       [9.99985099e-01, 1.49507960e-05],\n",
       "       [9.99997377e-01, 2.56339081e-06],\n",
       "       [9.99992609e-01, 7.36644961e-06],\n",
       "       [5.58354054e-03, 9.94416475e-01],\n",
       "       [1.00000000e+00, 1.80165914e-13],\n",
       "       [9.99997497e-01, 2.44843909e-06],\n",
       "       [9.99999523e-01, 4.51518446e-07],\n",
       "       [9.99988675e-01, 1.13606075e-05],\n",
       "       [9.92136955e-01, 7.86310341e-03],\n",
       "       [1.93786491e-02, 9.80621397e-01],\n",
       "       [4.81854260e-01, 5.18145800e-01],\n",
       "       [9.99902606e-01, 9.73984570e-05],\n",
       "       [4.74303335e-01, 5.25696695e-01],\n",
       "       [6.03961060e-03, 9.93960381e-01],\n",
       "       [9.98394549e-01, 1.60537416e-03],\n",
       "       [8.77049640e-02, 9.12295103e-01],\n",
       "       [1.36466399e-02, 9.86353397e-01],\n",
       "       [9.99999285e-01, 7.50466882e-07],\n",
       "       [9.99945998e-01, 5.40460715e-05],\n",
       "       [9.99995947e-01, 4.04433649e-06],\n",
       "       [4.31188475e-03, 9.95688140e-01],\n",
       "       [1.88486464e-03, 9.98115182e-01],\n",
       "       [1.00000000e+00, 2.09116538e-13],\n",
       "       [6.12020085e-04, 9.99387980e-01],\n",
       "       [1.00000000e+00, 1.50920734e-08],\n",
       "       [3.88929155e-03, 9.96110737e-01],\n",
       "       [6.47448376e-02, 9.35255110e-01],\n",
       "       [1.43124033e-02, 9.85687673e-01],\n",
       "       [1.00000000e+00, 5.98752292e-09],\n",
       "       [8.67417268e-03, 9.91325796e-01],\n",
       "       [3.26773338e-02, 9.67322707e-01],\n",
       "       [9.99959588e-01, 4.04439597e-05],\n",
       "       [1.00000000e+00, 8.48496447e-12],\n",
       "       [9.80545044e-01, 1.94549989e-02],\n",
       "       [1.00000000e+00, 1.74737586e-11],\n",
       "       [1.00000000e+00, 1.62059219e-08],\n",
       "       [1.36101097e-02, 9.86389935e-01],\n",
       "       [5.02962340e-03, 9.94970381e-01],\n",
       "       [9.93745208e-01, 6.25478383e-03],\n",
       "       [7.89683126e-03, 9.92103159e-01],\n",
       "       [1.00000000e+00, 3.73477382e-09],\n",
       "       [9.99999881e-01, 1.39290890e-07],\n",
       "       [1.00000000e+00, 5.60943967e-08],\n",
       "       [1.79651342e-02, 9.82034922e-01],\n",
       "       [9.99933124e-01, 6.69104047e-05],\n",
       "       [1.00000000e+00, 2.87740209e-09],\n",
       "       [4.69280966e-03, 9.95307148e-01],\n",
       "       [1.00000000e+00, 7.64558284e-19],\n",
       "       [2.31241947e-03, 9.97687578e-01],\n",
       "       [6.77192863e-03, 9.93228137e-01],\n",
       "       [7.78122852e-03, 9.92218733e-01],\n",
       "       [7.15100467e-02, 9.28489983e-01],\n",
       "       [4.59990315e-02, 9.54001009e-01],\n",
       "       [9.99999046e-01, 9.74828481e-07],\n",
       "       [1.71709135e-02, 9.82829034e-01],\n",
       "       [1.70233590e-03, 9.98297632e-01],\n",
       "       [2.22533606e-02, 9.77746665e-01],\n",
       "       [9.99999881e-01, 1.64112421e-07],\n",
       "       [2.64332304e-03, 9.97356653e-01],\n",
       "       [9.99999642e-01, 3.33041612e-07],\n",
       "       [9.98480618e-01, 1.51944405e-03],\n",
       "       [9.92608607e-01, 7.39132334e-03],\n",
       "       [9.99992847e-01, 7.11423991e-06],\n",
       "       [1.00000000e+00, 9.32728179e-13],\n",
       "       [9.99542952e-01, 4.57105227e-04],\n",
       "       [9.99382615e-01, 6.17386017e-04],\n",
       "       [9.88143776e-03, 9.90118563e-01],\n",
       "       [9.92515862e-01, 7.48409331e-03],\n",
       "       [9.99999881e-01, 7.51403704e-08],\n",
       "       [6.43230528e-02, 9.35676992e-01],\n",
       "       [1.44759961e-03, 9.98552382e-01],\n",
       "       [2.83297151e-03, 9.97167051e-01],\n",
       "       [1.99642847e-03, 9.98003542e-01],\n",
       "       [1.45049356e-02, 9.85495090e-01],\n",
       "       [9.95808244e-01, 4.19177115e-03],\n",
       "       [1.08522922e-02, 9.89147782e-01],\n",
       "       [9.30173509e-03, 9.90698278e-01],\n",
       "       [9.99685287e-01, 3.14785924e-04],\n",
       "       [1.59376524e-02, 9.84062374e-01],\n",
       "       [1.89256575e-02, 9.81074274e-01]], dtype=float32)"
      ]
     },
     "execution_count": 23,
     "metadata": {},
     "output_type": "execute_result"
    }
   ],
   "source": [
    "y_pred"
   ]
  },
  {
   "cell_type": "code",
   "execution_count": 24,
   "metadata": {},
   "outputs": [],
   "source": [
    "import numpy as np\n",
    "y_pred = np.argmax(y_pred, axis=1)"
   ]
  },
  {
   "cell_type": "code",
   "execution_count": 25,
   "metadata": {},
   "outputs": [
    {
     "data": {
      "text/plain": [
       "array([1, 1, 0, 0, 1, 0, 0, 0, 0, 1, 0, 1, 0, 0, 0, 1, 0, 1, 1, 1, 0, 1,\n",
       "       1, 0, 1, 0, 0, 0, 0, 1, 0, 1, 0, 0, 0, 1, 1, 1, 0, 0, 0, 1, 1, 0,\n",
       "       1, 1, 1, 0, 0, 0, 1, 1, 0, 0, 0, 0, 0, 1, 0, 0, 0, 0, 0, 1, 1, 0,\n",
       "       1, 1, 0, 1, 1, 0, 0, 0, 1, 1, 0, 1, 0, 1, 1, 1, 0, 1, 1, 0, 0, 0,\n",
       "       0, 0, 1, 1, 0, 1, 0, 0, 0, 1, 0, 0, 1, 0, 1, 1, 1, 1, 1, 0, 1, 1,\n",
       "       1, 0, 1, 0, 0, 0, 0, 0, 0, 0, 1, 0, 0, 1, 1, 1, 1, 1, 0, 1, 1, 0,\n",
       "       1, 1], dtype=int64)"
      ]
     },
     "execution_count": 25,
     "metadata": {},
     "output_type": "execute_result"
    }
   ],
   "source": [
    "y_pred"
   ]
  },
  {
   "cell_type": "code",
   "execution_count": null,
   "metadata": {},
   "outputs": [],
   "source": []
  },
  {
   "cell_type": "code",
   "execution_count": 26,
   "metadata": {},
   "outputs": [],
   "source": [
    "from tensorflow.keras.models import load_model\n",
    "from tensorflow.keras.preprocessing import image"
   ]
  },
  {
   "cell_type": "code",
   "execution_count": 27,
   "metadata": {},
   "outputs": [],
   "source": [
    "model=load_model('model_vgg19.h5')"
   ]
  },
  {
   "cell_type": "code",
   "execution_count": null,
   "metadata": {},
   "outputs": [],
   "source": []
  },
  {
   "cell_type": "code",
   "execution_count": 28,
   "metadata": {},
   "outputs": [],
   "source": [
    "img=image.load_img('Dataset/Test/Uninfected/2.png',target_size=(224,224))\n",
    "\n"
   ]
  },
  {
   "cell_type": "code",
   "execution_count": 29,
   "metadata": {},
   "outputs": [
    {
     "data": {
      "text/plain": [
       "array([[[0., 0., 0.],\n",
       "        [0., 0., 0.],\n",
       "        [0., 0., 0.],\n",
       "        ...,\n",
       "        [0., 0., 0.],\n",
       "        [0., 0., 0.],\n",
       "        [0., 0., 0.]],\n",
       "\n",
       "       [[0., 0., 0.],\n",
       "        [0., 0., 0.],\n",
       "        [0., 0., 0.],\n",
       "        ...,\n",
       "        [0., 0., 0.],\n",
       "        [0., 0., 0.],\n",
       "        [0., 0., 0.]],\n",
       "\n",
       "       [[0., 0., 0.],\n",
       "        [0., 0., 0.],\n",
       "        [0., 0., 0.],\n",
       "        ...,\n",
       "        [0., 0., 0.],\n",
       "        [0., 0., 0.],\n",
       "        [0., 0., 0.]],\n",
       "\n",
       "       ...,\n",
       "\n",
       "       [[0., 0., 0.],\n",
       "        [0., 0., 0.],\n",
       "        [0., 0., 0.],\n",
       "        ...,\n",
       "        [0., 0., 0.],\n",
       "        [0., 0., 0.],\n",
       "        [0., 0., 0.]],\n",
       "\n",
       "       [[0., 0., 0.],\n",
       "        [0., 0., 0.],\n",
       "        [0., 0., 0.],\n",
       "        ...,\n",
       "        [0., 0., 0.],\n",
       "        [0., 0., 0.],\n",
       "        [0., 0., 0.]],\n",
       "\n",
       "       [[0., 0., 0.],\n",
       "        [0., 0., 0.],\n",
       "        [0., 0., 0.],\n",
       "        ...,\n",
       "        [0., 0., 0.],\n",
       "        [0., 0., 0.],\n",
       "        [0., 0., 0.]]], dtype=float32)"
      ]
     },
     "execution_count": 29,
     "metadata": {},
     "output_type": "execute_result"
    }
   ],
   "source": [
    "x=image.img_to_array(img)\n",
    "x"
   ]
  },
  {
   "cell_type": "code",
   "execution_count": 30,
   "metadata": {},
   "outputs": [
    {
     "data": {
      "text/plain": [
       "(224, 224, 3)"
      ]
     },
     "execution_count": 30,
     "metadata": {},
     "output_type": "execute_result"
    }
   ],
   "source": [
    "x.shape"
   ]
  },
  {
   "cell_type": "code",
   "execution_count": 31,
   "metadata": {},
   "outputs": [],
   "source": [
    "x=x/255"
   ]
  },
  {
   "cell_type": "code",
   "execution_count": 32,
   "metadata": {},
   "outputs": [
    {
     "data": {
      "text/plain": [
       "(1, 224, 224, 3)"
      ]
     },
     "execution_count": 32,
     "metadata": {},
     "output_type": "execute_result"
    }
   ],
   "source": [
    "x=np.expand_dims(x,axis=0)\n",
    "img_data=preprocess_input(x)\n",
    "img_data.shape"
   ]
  },
  {
   "cell_type": "code",
   "execution_count": 33,
   "metadata": {},
   "outputs": [
    {
     "data": {
      "text/plain": [
       "array([[0., 1.]], dtype=float32)"
      ]
     },
     "execution_count": 33,
     "metadata": {},
     "output_type": "execute_result"
    }
   ],
   "source": [
    "model.predict(img_data)"
   ]
  },
  {
   "cell_type": "code",
   "execution_count": 34,
   "metadata": {},
   "outputs": [],
   "source": [
    "a=np.argmax(model.predict(img_data), axis=1)"
   ]
  },
  {
   "cell_type": "code",
   "execution_count": 35,
   "metadata": {},
   "outputs": [
    {
     "name": "stdout",
     "output_type": "stream",
     "text": [
      "Uninfected\n"
     ]
    }
   ],
   "source": [
    "if(a==1):\n",
    "    print(\"Uninfected\")\n",
    "else:\n",
    "    print(\"Infected\")"
   ]
  }
 ],
 "metadata": {
  "kernelspec": {
   "display_name": "Python 3",
   "language": "python",
   "name": "python3"
  },
  "language_info": {
   "codemirror_mode": {
    "name": "ipython",
    "version": 3
   },
   "file_extension": ".py",
   "mimetype": "text/x-python",
   "name": "python",
   "nbconvert_exporter": "python",
   "pygments_lexer": "ipython3",
   "version": "3.8.5"
  }
 },
 "nbformat": 4,
 "nbformat_minor": 2
}
